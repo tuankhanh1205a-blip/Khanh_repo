{
 "cells": [
  {
   "cell_type": "code",
   "execution_count": 18,
   "id": "9d287a4b-d300-42a6-a850-9ef68a742c65",
   "metadata": {},
   "outputs": [
    {
     "name": "stdin",
     "output_type": "stream",
     "text": [
      "Nhập vào số nguyên n:  9\n"
     ]
    },
    {
     "name": "stdout",
     "output_type": "stream",
     "text": [
      "Số gấp đôi của n là: 18\n"
     ]
    }
   ],
   "source": [
    "n = int(input(\"Nhập vào số nguyên n: \"))\n",
    "print(f\"Số gấp đôi của n là: {n * 2}\")\n"
   ]
  },
  {
   "cell_type": "code",
   "execution_count": 26,
   "id": "c9ef2aa8-992f-46e9-9333-5f0e8aff97ae",
   "metadata": {},
   "outputs": [
    {
     "name": "stdin",
     "output_type": "stream",
     "text": [
      "Nhập chiều dài b:  7\n",
      "Nhập chiều rộng a:  8\n"
     ]
    },
    {
     "name": "stdout",
     "output_type": "stream",
     "text": [
      "diện tích còn lại là: 5.76\n"
     ]
    }
   ],
   "source": [
    "b = float(input(\"Nhập chiều dài b: \"))\n",
    "a = float(input(\"Nhập chiều rộng a: \"))\n",
    "r = a/2\n",
    "c = 3.14*r*r\n",
    "s = a*b - c\n",
    "k = round(s, 2)\n",
    "print(f\"diện tích còn lại là: {k}\")\n"
   ]
  },
  {
   "cell_type": "code",
   "execution_count": 33,
   "id": "f9cd4d18-c6b5-4a04-9e75-6a4a497d5aa1",
   "metadata": {},
   "outputs": [
    {
     "name": "stdin",
     "output_type": "stream",
     "text": [
      "Nhập vào một ký tự:  a\n"
     ]
    },
    {
     "name": "stdout",
     "output_type": "stream",
     "text": [
      "chữ cái in hoa tương ứng là: A\n"
     ]
    }
   ],
   "source": [
    "c = input(\"Nhập vào một ký tự: \")\n",
    "if len(c) != 1:\n",
    "    print(\"vui lòng nhập 1 ký tự.\")\n",
    "else:\n",
    "    if c.isalpha():\n",
    "         if c.isupper():\n",
    "             print(\"chữ cái thường tương ứng là:\",c.lower())\n",
    "         else:\n",
    "             print(\"chữ cái in hoa tương ứng là:\",c.upper())\n",
    "    else:\n",
    "     print(\"ký tự không phải là chữ cái.\")"
   ]
  },
  {
   "cell_type": "code",
   "execution_count": 34,
   "id": "e8ae27c6-0d98-456e-b948-dc1c135479e2",
   "metadata": {},
   "outputs": [
    {
     "name": "stdin",
     "output_type": "stream",
     "text": [
      "Nhập vào một ký tự:  g\n"
     ]
    },
    {
     "name": "stdout",
     "output_type": "stream",
     "text": [
      "{c} là kí tự alphabet\n"
     ]
    }
   ],
   "source": [
    "c = input(\"Nhập vào một ký tự: \")\n",
    "if len(c) != 1:\n",
    "    print(\"vui lòng nhập 1 ký tự.\")\n",
    "else:\n",
    "    if c.isalpha():\n",
    "        print(\"{c} là kí tự alphabet\")\n",
    "    else:\n",
    "        print(\"{c} không là lí tự alphabet\")"
   ]
  },
  {
   "cell_type": "code",
   "execution_count": 46,
   "id": "11a0ebbc-554d-4baf-9616-9cb949332cc6",
   "metadata": {},
   "outputs": [
    {
     "name": "stdin",
     "output_type": "stream",
     "text": [
      "Nhập vào một chữ cái in hoa (A-Z):  S\n"
     ]
    },
    {
     "name": "stdout",
     "output_type": "stream",
     "text": [
      "Chữ cái thường liền trước là:  r\n"
     ]
    }
   ],
   "source": [
    "c = input(\"Nhập vào một chữ cái in hoa (A-Z): \")\n",
    "if len(c) == 1 and c.isalpha() and c.isupper():\n",
    "    if c == 'A':\n",
    "        print(\"Không có chữ cái nào đứng trước chữ 'a'.\")\n",
    "    else:\n",
    "         thuong = c.lower()\n",
    "         truoc = chr(ord(thuong) - 1)\n",
    "         print(\"Chữ cái thường liền trước là: \", truoc)\n",
    "else:\n",
    "    print(\"Vui lòng nhập một chữ cái in hoa hợp lệ.\")"
   ]
  },
  {
   "cell_type": "code",
   "execution_count": 53,
   "id": "88524b88-a147-4596-b7eb-8363f91fd72d",
   "metadata": {},
   "outputs": [
    {
     "name": "stdin",
     "output_type": "stream",
     "text": [
      "nhập vào cạnh a:  7\n",
      "nhập vào cạnh b:  8\n",
      "nhập vào cạnh c:  9\n"
     ]
    },
    {
     "name": "stdout",
     "output_type": "stream",
     "text": [
      "diện tích của tam giác là:  312.9\n"
     ]
    }
   ],
   "source": [
    "import math\n",
    "a = float(input(\"nhập vào cạnh a: \"))\n",
    "b = float(input(\"nhập vào cạnh b: \"))\n",
    "c = float(input(\"nhập vào cạnh c: \"))\n",
    "if (a+b) < c:\n",
    "   print(\"không phải 3 cạnh của tam giác\")\n",
    "else:\n",
    "    p=a+b+c\n",
    "    s= math.sqrt(p*(p-a)*(p-b)*(p-c))\n",
    "    kq=round(s, 1)\n",
    "    print(\"diện tích của tam giác là: \", kq)\n",
    "    "
   ]
  },
  {
   "cell_type": "code",
   "execution_count": 54,
   "id": "971e0683-1410-40c5-879b-24452cd684dd",
   "metadata": {},
   "outputs": [
    {
     "name": "stdin",
     "output_type": "stream",
     "text": [
      "Nhập vào một chuỗi gồm các ký tự thường, độ dài ≥ 20:  12345678901112131415161718\n"
     ]
    },
    {
     "name": "stdout",
     "output_type": "stream",
     "text": [
      "Chuỗi không hợp lệ. Đảm bảo toàn chữ thường và độ dài >= 20.\n"
     ]
    }
   ],
   "source": [
    "s = input(\"Nhập vào một chuỗi gồm các ký tự thường, độ dài ≥ 20: \")\n",
    "\n",
    "if len(s) >= 20 and s.islower():\n",
    "    print(\"Chữ cái thứ 5 là:\", s[4])\n",
    "    print(\"Chữ cái thứ 9 là:\", s[8])\n",
    "else:\n",
    "    print(\"Chuỗi không hợp lệ. Đảm bảo toàn chữ thường và độ dài >= 20.\")"
   ]
  },
  {
   "cell_type": "code",
   "execution_count": 55,
   "id": "477cad8a-3fc4-4c30-b12e-215f0d7253c1",
   "metadata": {},
   "outputs": [
    {
     "name": "stdin",
     "output_type": "stream",
     "text": [
      "Ten chu ho:  Nguyen Xuan Long\n",
      "Chi so thang truoc:  2097\n",
      "Chi so thang nay:  2278\n"
     ]
    },
    {
     "name": "stdout",
     "output_type": "stream",
     "text": [
      "Ho va ten: Nguyen Xuan Long\n",
      "Tien phai tra la: 426038\n"
     ]
    }
   ],
   "source": [
    "ten = input(\"Ten chu ho: \")\n",
    "cu = int(input(\"Chi so thang truoc: \"))\n",
    "moi = int(input(\"Chi so thang nay: \"))\n",
    "\n",
    "so_dien = moi - cu\n",
    "tien = 0\n",
    "\n",
    "if so_dien <= 50:\n",
    "    tien = so_dien * 1984\n",
    "elif so_dien <= 100:\n",
    "    tien = 50 * 1984 + (so_dien - 50) * 2050\n",
    "elif so_dien <= 200:\n",
    "    tien = 50 * 1984 + 50 * 2050 + (so_dien - 100) * 2380\n",
    "elif so_dien <= 300:\n",
    "    tien = 50 * 1984 + 50 * 2050 + 100 * 2380 + (so_dien - 200) * 2998\n",
    "elif so_dien <= 400:\n",
    "    tien = 50 * 1984 + 50 * 2050 + 100 * 2380 + 100 * 2998 + (so_dien - 300) * 3350\n",
    "else:\n",
    "    tien = 50 * 1984 + 50 * 2050 + 100 * 2380 + 100 * 2998 + 100 * 3350 + (so_dien - 400) * 3460\n",
    "\n",
    "tien_co_vat = round(tien * 1.08)\n",
    "\n",
    "print(\"Ho va ten:\", ten)\n",
    "print(\"Tien phai tra la:\", tien_co_vat)"
   ]
  },
  {
   "cell_type": "code",
   "execution_count": null,
   "id": "e9a6fd12-92d7-478c-9829-e7792f6e2ee4",
   "metadata": {},
   "outputs": [],
   "source": []
  }
 ],
 "metadata": {
  "kernelspec": {
   "display_name": "Python 3 (ipykernel)",
   "language": "python",
   "name": "python3"
  },
  "language_info": {
   "codemirror_mode": {
    "name": "ipython",
    "version": 3
   },
   "file_extension": ".py",
   "mimetype": "text/x-python",
   "name": "python",
   "nbconvert_exporter": "python",
   "pygments_lexer": "ipython3",
   "version": "3.13.5"
  }
 },
 "nbformat": 4,
 "nbformat_minor": 5
}
