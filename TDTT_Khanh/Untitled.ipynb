{
 "cells": [
  {
   "cell_type": "code",
   "execution_count": 7,
   "id": "fdd5d936-8ba0-442b-89d3-c755cae6cc41",
   "metadata": {},
   "outputs": [
    {
     "name": "stdout",
     "output_type": "stream",
     "text": [
      "trước khi hoán đổi:a = 4 , b = 6\n",
      "sau khi hoán đổi: a = 6 , b = 4\n"
     ]
    }
   ],
   "source": [
    "a = 4\n",
    "b = 6\n",
    "print(\"trước khi hoán đổi:a =\", a, \", b =\", b)\n",
    "a = a ^ b\n",
    "b = a ^ b\n",
    "a = a ^ b\n",
    "print(\"sau khi hoán đổi: a =\", a, \", b =\", b)\n"
   ]
  },
  {
   "cell_type": "code",
   "execution_count": 17,
   "id": "da8dbe4c-18a8-4906-b584-f967ed755bf0",
   "metadata": {},
   "outputs": [
    {
     "name": "stdin",
     "output_type": "stream",
     "text": [
      " 8\n"
     ]
    },
    {
     "name": "stdout",
     "output_type": "stream",
     "text": [
      "{n} là lũy thừa của 2\n"
     ]
    }
   ],
   "source": [
    "n = int(input())\n",
    "if n>0 and (n & (n-1))==0:\n",
    "   print(\"n là lũy thừa của 2\")\n",
    "else: \n",
    "   print(\"n không là lũy thừa của 2\")"
   ]
  },
  {
   "cell_type": "code",
   "execution_count": 19,
   "id": "d96d78c7-dfa9-4164-a360-2aaea3c33479",
   "metadata": {},
   "outputs": [
    {
     "name": "stdin",
     "output_type": "stream",
     "text": [
      " 4\n",
      " 3\n"
     ]
    },
    {
     "name": "stdout",
     "output_type": "stream",
     "text": [
      "1\n"
     ]
    }
   ],
   "source": [
    "import math\n",
    "m = int(input())\n",
    "n = int(input())\n",
    "x = m/n\n",
    "print(math.floor(x))"
   ]
  },
  {
   "cell_type": "code",
   "execution_count": 20,
   "id": "b1b38d35-36d8-40f6-9783-ee74577617c9",
   "metadata": {},
   "outputs": [
    {
     "name": "stdin",
     "output_type": "stream",
     "text": [
      " 4\n",
      " 7\n"
     ]
    },
    {
     "name": "stdout",
     "output_type": "stream",
     "text": [
      "1\n"
     ]
    }
   ],
   "source": [
    "import math\n",
    "m = int(input())\n",
    "n = int(input())\n",
    "x = m/n\n",
    "print(math.ceil(x))"
   ]
  },
  {
   "cell_type": "code",
   "execution_count": 21,
   "id": "9fe3b6ad-12be-4f44-8421-91ef80aa9ce5",
   "metadata": {},
   "outputs": [
    {
     "name": "stdin",
     "output_type": "stream",
     "text": [
      "Nhập một số:  4\n"
     ]
    },
    {
     "name": "stdout",
     "output_type": "stream",
     "text": [
      "4 là số chẵn\n"
     ]
    }
   ],
   "source": [
    "n = int(input(\"Nhập một số: \"))\n",
    "\n",
    "if n % 2 == 0:\n",
    "    print(f\"{n} là số chẵn\")\n",
    "else:\n",
    "    print(f\"{n} là số lẻ\")"
   ]
  },
  {
   "cell_type": "code",
   "execution_count": 22,
   "id": "d6493df2-f2c2-49d6-9a13-93c39a4fcf82",
   "metadata": {},
   "outputs": [
    {
     "name": "stdin",
     "output_type": "stream",
     "text": [
      " 3\n",
      " -4\n"
     ]
    },
    {
     "name": "stdout",
     "output_type": "stream",
     "text": [
      "no\n"
     ]
    }
   ],
   "source": [
    "a = int(input())\n",
    "b = int(input())\n",
    "if a & b < 0:\n",
    "    print(\"yes\")\n",
    "else:\n",
    "    print(\"no\")"
   ]
  },
  {
   "cell_type": "code",
   "execution_count": 25,
   "id": "c631c1fe-8710-4750-ba9c-618807cb3536",
   "metadata": {},
   "outputs": [
    {
     "name": "stdin",
     "output_type": "stream",
     "text": [
      " cat \n",
      " tiger\n"
     ]
    },
    {
     "name": "stdout",
     "output_type": "stream",
     "text": [
      "false\n"
     ]
    }
   ],
   "source": [
    "m = input()\n",
    "n = input()\n",
    "if len(m)>len(n):\n",
    "    print(\"true\")\n",
    "else:\n",
    "    print(\"false\")"
   ]
  },
  {
   "cell_type": "code",
   "execution_count": 26,
   "id": "ae8bec70-cf08-4d23-ac7c-6473ff74dfbb",
   "metadata": {},
   "outputs": [
    {
     "name": "stdin",
     "output_type": "stream",
     "text": [
      " 3\n",
      " 4\n",
      " 5\n"
     ]
    },
    {
     "name": "stdout",
     "output_type": "stream",
     "text": [
      "yes\n"
     ]
    }
   ],
   "source": [
    "a = float(input())\n",
    "b = float(input())\n",
    "c = float(input())\n",
    "if a+b>c:\n",
    "    print(\"yes\")\n",
    "else:\n",
    "    print(\"no\")"
   ]
  },
  {
   "cell_type": "code",
   "execution_count": 27,
   "id": "084c1117-64be-47f0-9f6f-2ada0a40cab0",
   "metadata": {},
   "outputs": [
    {
     "name": "stdin",
     "output_type": "stream",
     "text": [
      "Nhập số thứ nhất:  1\n",
      "Nhập số thứ hai:  2\n",
      "Nhập số thứ ba:  3\n",
      "Nhập số thứ tư:  4\n"
     ]
    },
    {
     "name": "stdout",
     "output_type": "stream",
     "text": [
      "số lớn nhất: 4\n"
     ]
    }
   ],
   "source": [
    "a = int(input(\"Nhập số thứ nhất: \"))\n",
    "b = int(input(\"Nhập số thứ hai: \"))\n",
    "c = int(input(\"Nhập số thứ ba: \"))\n",
    "d = int(input(\"Nhập số thứ tư: \"))\n",
    "print(\"số lớn nhất:\",max(a,b,c,d))"
   ]
  },
  {
   "cell_type": "code",
   "execution_count": 42,
   "id": "5a8f94a5-dac3-4b62-8712-5c67e8aab72d",
   "metadata": {},
   "outputs": [
    {
     "name": "stdin",
     "output_type": "stream",
     "text": [
      " 3\n",
      " 4\n",
      " 5\n"
     ]
    },
    {
     "name": "stdout",
     "output_type": "stream",
     "text": [
      "tam giác vuông\n"
     ]
    }
   ],
   "source": [
    "import math\n",
    "a = float(input())\n",
    "b = float(input())\n",
    "c = float(input())\n",
    "if a==b==c:\n",
    "   print(\"tam giác đều\")\n",
    "elif (c==math.sqrt(a*a+b*b) or\n",
    "     b==math.sqrt(a*a+c*c)or\n",
    "     a==math.sqrt(b*b+c*c)):\n",
    "   print(\"tam giác vuông\")\n",
    "elif a+b>c and a+c>b and b+c>a:\n",
    "   print(\"tam giác thường\")\n",
    "else:\n",
    "    print(\"không phải tam giác\")"
   ]
  },
  {
   "cell_type": "code",
   "execution_count": 46,
   "id": "fcdac192-b172-46d4-8fe1-be289d8268d3",
   "metadata": {},
   "outputs": [
    {
     "name": "stdin",
     "output_type": "stream",
     "text": [
      "nhập năm: 2025\n"
     ]
    },
    {
     "name": "stdout",
     "output_type": "stream",
     "text": [
      "no\n"
     ]
    }
   ],
   "source": [
    "x = int(input(\"nhập năm:\"))\n",
    "if (x % 4 == 0 and x % 100 !=0) or (x % 400 ==0):\n",
    "    print(\"yes\")\n",
    "else:\n",
    "    print(\"no\")"
   ]
  },
  {
   "cell_type": "code",
   "execution_count": 47,
   "id": "6ebf59f2-12df-4523-b737-a26e6d604946",
   "metadata": {},
   "outputs": [
    {
     "name": "stdin",
     "output_type": "stream",
     "text": [
      "Nhập a:  4\n",
      "Nhập b:  2\n"
     ]
    },
    {
     "name": "stdout",
     "output_type": "stream",
     "text": [
      "Nghiệm của phương trình là: {-0.5}\n"
     ]
    }
   ],
   "source": [
    "a = float(input(\"Nhập a: \"))\n",
    "b = float(input(\"Nhập b: \"))\n",
    "\n",
    "if a == 0:\n",
    "    if b == 0:\n",
    "        print(\"Vô số nghiệm\")\n",
    "    else:\n",
    "        print(\"Vô nghiệm\")\n",
    "else:\n",
    "    x = -b / a\n",
    "    print(\"Nghiệm của phương trình là:\", {x})"
   ]
  },
  {
   "cell_type": "code",
   "execution_count": 50,
   "id": "ad244491-3431-446e-965c-86b1c9f381e8",
   "metadata": {},
   "outputs": [
    {
     "name": "stdin",
     "output_type": "stream",
     "text": [
      "Nhập điểm trung bình:  9.0\n"
     ]
    },
    {
     "name": "stdout",
     "output_type": "stream",
     "text": [
      "Học lực: Giỏi\n"
     ]
    }
   ],
   "source": [
    "diem = float(input(\"Nhập điểm trung bình: \"))\n",
    "\n",
    "if diem >= 8.0:\n",
    "    print(\"Học lực: Giỏi\")\n",
    "elif diem >= 6.5:\n",
    "    print(\"Học lực: Khá\")\n",
    "elif diem >= 5.0:\n",
    "    print(\"Học lực: Trung bình\")\n",
    "else:\n",
    "    print(\"Học lực: Yếu\")"
   ]
  },
  {
   "cell_type": "code",
   "execution_count": 52,
   "id": "191484b2-a396-4797-a2a6-69df8537e8c7",
   "metadata": {},
   "outputs": [
    {
     "name": "stdin",
     "output_type": "stream",
     "text": [
      " 1\n",
      " 2\n",
      " 2\n",
      " 4\n"
     ]
    },
    {
     "name": "stdout",
     "output_type": "stream",
     "text": [
      "cấp sô nhân\n"
     ]
    }
   ],
   "source": [
    "a=int(input())\n",
    "b=int(input())\n",
    "c=int(input())\n",
    "d=int(input())\n",
    "if b/a==d/c:\n",
    "   print(\"cấp sô nhân\")\n",
    "else:\n",
    "   print(\"không phải cấp số nhân\")"
   ]
  },
  {
   "cell_type": "code",
   "execution_count": null,
   "id": "5ddb88c8-e690-43a1-92e3-013d579d6d83",
   "metadata": {},
   "outputs": [],
   "source": []
  }
 ],
 "metadata": {
  "kernelspec": {
   "display_name": "Python 3 (ipykernel)",
   "language": "python",
   "name": "python3"
  },
  "language_info": {
   "codemirror_mode": {
    "name": "ipython",
    "version": 3
   },
   "file_extension": ".py",
   "mimetype": "text/x-python",
   "name": "python",
   "nbconvert_exporter": "python",
   "pygments_lexer": "ipython3",
   "version": "3.13.5"
  }
 },
 "nbformat": 4,
 "nbformat_minor": 5
}
